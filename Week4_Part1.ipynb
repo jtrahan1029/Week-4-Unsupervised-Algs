{
 "cells": [
  {
   "cell_type": "markdown",
   "id": "fef9fe6a",
   "metadata": {},
   "source": [
    "# Week 4 - BBC News Classification Kaggle Mini Project\n",
    "**Name:** SungHak Hong\n",
    "\n",
    "## Introduction and Problem Description\n",
    "\n",
    "With this project, I want to seperate BBC news articles into specific categories in given factors. I obtained the dataset from Kaggle (Reference: <https://www.kaggle.com/competitions/learn-ai-bbc/overview>). In this dataset, the following three dataset and data fields are given: \n",
    "\n",
    "* **BBC News Train**: The training set of BBC News (1490 records)\n",
    "* **BBC News Test**: The test set of BBC News (736 records)\n",
    "* **BBC News Sample Solution**: A sample submission file in the correct format\n",
    "* **ArticleID**: Article ID unique number given to the record\n",
    "* **Article**: Test of the header and article\n",
    "* **Category**: Category of the article (Tech, Business, Sport, Entertainment, and Politics)\n",
    "\n",
    "During this project, I am planning to produce a analysis of dataset with Exploratory Data Analysis (EDA) procedure, Model Building and Training, and Comparison with supervised learning.\n",
    "\n",
    "## EDA Procedure\n",
    "### Import Library"
   ]
  },
  {
   "cell_type": "code",
   "execution_count": 1,
   "id": "ffed9b04",
   "metadata": {},
   "outputs": [],
   "source": [
    "import numpy as np \n",
    "import pandas as pd \n",
    "import seaborn as sns\n",
    "import matplotlib.pyplot as plt\n",
    "import itertools\n",
    "import os\n",
    "import sklearn.metrics as metrics\n",
    "import random\n",
    "import string\n",
    "\n",
    "from sklearn.preprocessing import StandardScaler\n",
    "from sklearn.feature_extraction.text import TfidfVectorizer, CountVectorizer\n",
    "from sklearn.decomposition import NMF\n",
    "from sklearn.cluster import KMeans\n",
    "from sklearn.model_selection import train_test_split\n",
    "from sklearn.metrics import accuracy_score"
   ]
  },
  {
   "cell_type": "markdown",
   "id": "36f442e0",
   "metadata": {},
   "source": [
    "### Import Data"
   ]
  },
  {
   "cell_type": "code",
   "execution_count": 2,
   "id": "03f76922",
   "metadata": {},
   "outputs": [],
   "source": [
    "sample = pd.read_csv(\"../Desktop/BBC/BBC_News_Sample_Solution.csv\")\n",
    "train = pd.read_csv(\"../Desktop/BBC/BBC_News_Train.csv\")\n",
    "test = pd.read_csv(\"../Desktop/BBC/BBC_News_Test.csv\")"
   ]
  },
  {
   "cell_type": "markdown",
   "id": "393acc65",
   "metadata": {},
   "source": [
    "First, I looked the dataset we need to train. "
   ]
  },
  {
   "cell_type": "code",
   "execution_count": 3,
   "id": "8213af18",
   "metadata": {},
   "outputs": [
    {
     "name": "stdout",
     "output_type": "stream",
     "text": [
      "<class 'pandas.core.frame.DataFrame'>\n",
      "RangeIndex: 1490 entries, 0 to 1489\n",
      "Data columns (total 3 columns):\n",
      " #   Column     Non-Null Count  Dtype \n",
      "---  ------     --------------  ----- \n",
      " 0   ArticleId  1490 non-null   int64 \n",
      " 1   Text       1490 non-null   object\n",
      " 2   Category   1490 non-null   object\n",
      "dtypes: int64(1), object(2)\n",
      "memory usage: 35.0+ KB\n"
     ]
    },
    {
     "data": {
      "text/html": [
       "<div>\n",
       "<style scoped>\n",
       "    .dataframe tbody tr th:only-of-type {\n",
       "        vertical-align: middle;\n",
       "    }\n",
       "\n",
       "    .dataframe tbody tr th {\n",
       "        vertical-align: top;\n",
       "    }\n",
       "\n",
       "    .dataframe thead th {\n",
       "        text-align: right;\n",
       "    }\n",
       "</style>\n",
       "<table border=\"1\" class=\"dataframe\">\n",
       "  <thead>\n",
       "    <tr style=\"text-align: right;\">\n",
       "      <th></th>\n",
       "      <th>ArticleId</th>\n",
       "      <th>Text</th>\n",
       "      <th>Category</th>\n",
       "    </tr>\n",
       "  </thead>\n",
       "  <tbody>\n",
       "    <tr>\n",
       "      <th>0</th>\n",
       "      <td>1833</td>\n",
       "      <td>worldcom ex-boss launches defence lawyers defe...</td>\n",
       "      <td>business</td>\n",
       "    </tr>\n",
       "    <tr>\n",
       "      <th>1</th>\n",
       "      <td>154</td>\n",
       "      <td>german business confidence slides german busin...</td>\n",
       "      <td>business</td>\n",
       "    </tr>\n",
       "    <tr>\n",
       "      <th>2</th>\n",
       "      <td>1101</td>\n",
       "      <td>bbc poll indicates economic gloom citizens in ...</td>\n",
       "      <td>business</td>\n",
       "    </tr>\n",
       "    <tr>\n",
       "      <th>3</th>\n",
       "      <td>1976</td>\n",
       "      <td>lifestyle  governs mobile choice  faster  bett...</td>\n",
       "      <td>tech</td>\n",
       "    </tr>\n",
       "    <tr>\n",
       "      <th>4</th>\n",
       "      <td>917</td>\n",
       "      <td>enron bosses in $168m payout eighteen former e...</td>\n",
       "      <td>business</td>\n",
       "    </tr>\n",
       "  </tbody>\n",
       "</table>\n",
       "</div>"
      ],
      "text/plain": [
       "   ArticleId                                               Text  Category\n",
       "0       1833  worldcom ex-boss launches defence lawyers defe...  business\n",
       "1        154  german business confidence slides german busin...  business\n",
       "2       1101  bbc poll indicates economic gloom citizens in ...  business\n",
       "3       1976  lifestyle  governs mobile choice  faster  bett...      tech\n",
       "4        917  enron bosses in $168m payout eighteen former e...  business"
      ]
     },
     "execution_count": 3,
     "metadata": {},
     "output_type": "execute_result"
    }
   ],
   "source": [
    "train.info()\n",
    "train.head()"
   ]
  },
  {
   "cell_type": "code",
   "execution_count": 4,
   "id": "d854d9a4",
   "metadata": {},
   "outputs": [
    {
     "name": "stdout",
     "output_type": "stream",
     "text": [
      "1490\n",
      "['business' 'tech' 'politics' 'sport' 'entertainment']\n"
     ]
    }
   ],
   "source": [
    "print(len(train))\n",
    "print(train['Category'].unique())"
   ]
  },
  {
   "cell_type": "code",
   "execution_count": 5,
   "id": "eb7e3826",
   "metadata": {},
   "outputs": [
    {
     "data": {
      "text/plain": [
       "Text(0.5, 1.0, 'Counts of Categories in Train')"
      ]
     },
     "execution_count": 5,
     "metadata": {},
     "output_type": "execute_result"
    },
    {
     "data": {
      "image/png": "[encoded data removed]",
      "text/plain": [
       "<Figure size 432x288 with 1 Axes>"
      ]
     },
     "metadata": {
      "needs_background": "light"
     },
     "output_type": "display_data"
    }
   ],
   "source": [
    "plt.hist(train['Category'])\n",
    "plt.title(\"Counts of Categories in Train\")"
   ]
  },
  {
   "cell_type": "markdown",
   "id": "8ddfeaef",
   "metadata": {},
   "source": [
    "The statement and histogram above represents how many types and counts of categories are there in training dataset. According to the analysis, there are 5 types of categories (business, tech, politics, sports, and entertainments) and there are total of 1490 observations. The sports and business articles are showing more than other three categories, but the counts of all 5 categories seems roughly balanced.  "
   ]
  },
  {
   "cell_type": "code",
   "execution_count": 6,
   "id": "cbf196ad",
   "metadata": {},
   "outputs": [
    {
     "name": "stdout",
     "output_type": "stream",
     "text": [
      "0       1833\n",
      "1        154\n",
      "2       1101\n",
      "3       1976\n",
      "4        917\n",
      "        ... \n",
      "1485     857\n",
      "1486     325\n",
      "1487    1590\n",
      "1488    1587\n",
      "1489     538\n",
      "Name: ArticleId, Length: 1490, dtype: int64\n",
      "1490\n"
     ]
    }
   ],
   "source": [
    "print(train['ArticleId'])\n",
    "print(len(train['ArticleId'].unique()))"
   ]
  },
  {
   "cell_type": "markdown",
   "id": "54dc2a59",
   "metadata": {},
   "source": [
    "What about the article ID? the number of article identification are equal and unique itself since they are also represented 1490 amounts of unique article id. Thus, we could conclude that the article id value is not redundant per each articles, so that we could use it as counts of the articles itself.\n",
    "\n",
    "Next, we need to exclude the outliers. The outliers could affect to the result in training "
   ]
  },
  {
   "cell_type": "code",
   "execution_count": 7,
   "id": "d6040f4d",
   "metadata": {},
   "outputs": [
    {
     "data": {
      "text/plain": [
       "(array([919., 482.,  76.,   6.,   3.,   1.,   0.,   2.,   0.,   1.]),\n",
       " array([  501. ,  2289.6,  4078.2,  5866.8,  7655.4,  9444. , 11232.6,\n",
       "        13021.2, 14809.8, 16598.4, 18387. ]),\n",
       " <BarContainer object of 10 artists>)"
      ]
     },
     "execution_count": 7,
     "metadata": {},
     "output_type": "execute_result"
    },
    {
     "data": {
      "image/png": "[encoded data removed]",
      "text/plain": [
       "<Figure size 432x288 with 1 Axes>"
      ]
     },
     "metadata": {
      "needs_background": "light"
     },
     "output_type": "display_data"
    }
   ],
   "source": [
    "train['length'] = train['Text'].apply(len)\n",
    "plt.hist(x = train['length'])"
   ]
  },
  {
   "cell_type": "code",
   "execution_count": 8,
   "id": "1167a37b",
   "metadata": {},
   "outputs": [
    {
     "data": {
      "text/plain": [
       "1482"
      ]
     },
     "execution_count": 8,
     "metadata": {},
     "output_type": "execute_result"
    }
   ],
   "source": [
    "train = train[train['length'] < 7500]\n",
    "len(train)"
   ]
  },
  {
   "cell_type": "markdown",
   "id": "e86b4ad2",
   "metadata": {},
   "source": [
    "According to the histogram, most of the length in train data are no more than 7500. Thus, we could consider the length over 7500 can be outliers. So I excluded 18 outliers in training dataset."
   ]
  },
  {
   "cell_type": "markdown",
   "id": "25698acb",
   "metadata": {},
   "source": [
    "## Model Building and Training\n",
    "\n",
    "In this module, I will use matrix factorization method to discover how the new articles and the labes are accurate."
   ]
  },
  {
   "cell_type": "code",
   "execution_count": 53,
   "id": "f97d166c",
   "metadata": {},
   "outputs": [
    {
     "name": "stderr",
     "output_type": "stream",
     "text": [
      "C:\\Users\\vmfl7\\anaconda3\\lib\\site-packages\\sklearn\\decomposition\\_nmf.py:312: FutureWarning: The 'init' value, when 'init=None' and n_components is less than n_samples and n_features, will be changed from 'nndsvd' to 'nndsvda' in 1.1 (renaming of 0.26).\n",
      "  warnings.warn((\"The 'init' value, when 'init=None' and \"\n"
     ]
    }
   ],
   "source": [
    "from sklearn.decomposition import NMF\n",
    "from sklearn.feature_extraction.text import TfidfVectorizer\n",
    "\n",
    "vect = TfidfVectorizer(min_df=50, stop_words='english')\n",
    "X = vect.fit_transform(train.Text)\n",
    "\n",
    "model = NMF(n_components=5, random_state=5)\n",
    "model.fit(X)\n",
    "nmf_features = model.transform(X)"
   ]
  },
  {
   "cell_type": "code",
   "execution_count": 54,
   "id": "45723113",
   "metadata": {},
   "outputs": [
    {
     "name": "stdout",
     "output_type": "stream",
     "text": [
      "(1482, 919)\n",
      "(1482, 5)\n",
      "(5, 919)\n"
     ]
    }
   ],
   "source": [
    "print(X.shape)\n",
    "print(nmf_features.shape)\n",
    "print(model.components_.shape)"
   ]
  },
  {
   "cell_type": "code",
   "execution_count": 55,
   "id": "6460602c",
   "metadata": {},
   "outputs": [
    {
     "data": {
      "text/html": [
       "<div>\n",
       "<style scoped>\n",
       "    .dataframe tbody tr th:only-of-type {\n",
       "        vertical-align: middle;\n",
       "    }\n",
       "\n",
       "    .dataframe tbody tr th {\n",
       "        vertical-align: top;\n",
       "    }\n",
       "\n",
       "    .dataframe thead th {\n",
       "        text-align: right;\n",
       "    }\n",
       "</style>\n",
       "<table border=\"1\" class=\"dataframe\">\n",
       "  <thead>\n",
       "    <tr style=\"text-align: right;\">\n",
       "      <th></th>\n",
       "      <th>000</th>\n",
       "      <th>10</th>\n",
       "      <th>100</th>\n",
       "      <th>11</th>\n",
       "      <th>12</th>\n",
       "      <th>13</th>\n",
       "      <th>14</th>\n",
       "      <th>15</th>\n",
       "      <th>16</th>\n",
       "      <th>17</th>\n",
       "      <th>...</th>\n",
       "      <th>working</th>\n",
       "      <th>works</th>\n",
       "      <th>world</th>\n",
       "      <th>worth</th>\n",
       "      <th>written</th>\n",
       "      <th>wrong</th>\n",
       "      <th>year</th>\n",
       "      <th>years</th>\n",
       "      <th>york</th>\n",
       "      <th>young</th>\n",
       "    </tr>\n",
       "  </thead>\n",
       "  <tbody>\n",
       "    <tr>\n",
       "      <th>0</th>\n",
       "      <td>0.098601</td>\n",
       "      <td>0.024509</td>\n",
       "      <td>0.029764</td>\n",
       "      <td>0.004958</td>\n",
       "      <td>0.000000</td>\n",
       "      <td>0.000000</td>\n",
       "      <td>0.023409</td>\n",
       "      <td>0.006997</td>\n",
       "      <td>0.016887</td>\n",
       "      <td>0.005593</td>\n",
       "      <td>...</td>\n",
       "      <td>0.075061</td>\n",
       "      <td>0.006925</td>\n",
       "      <td>0.031232</td>\n",
       "      <td>0.002961</td>\n",
       "      <td>0.036720</td>\n",
       "      <td>0.080000</td>\n",
       "      <td>0.013212</td>\n",
       "      <td>0.082201</td>\n",
       "      <td>0.003952</td>\n",
       "      <td>0.051506</td>\n",
       "    </tr>\n",
       "    <tr>\n",
       "      <th>1</th>\n",
       "      <td>0.021041</td>\n",
       "      <td>0.076507</td>\n",
       "      <td>0.015662</td>\n",
       "      <td>0.029476</td>\n",
       "      <td>0.055476</td>\n",
       "      <td>0.053473</td>\n",
       "      <td>0.032620</td>\n",
       "      <td>0.031999</td>\n",
       "      <td>0.034181</td>\n",
       "      <td>0.086450</td>\n",
       "      <td>...</td>\n",
       "      <td>0.018765</td>\n",
       "      <td>0.008014</td>\n",
       "      <td>0.271449</td>\n",
       "      <td>0.007152</td>\n",
       "      <td>0.011256</td>\n",
       "      <td>0.026413</td>\n",
       "      <td>0.226172</td>\n",
       "      <td>0.124461</td>\n",
       "      <td>0.013613</td>\n",
       "      <td>0.060259</td>\n",
       "    </tr>\n",
       "    <tr>\n",
       "      <th>2</th>\n",
       "      <td>0.130636</td>\n",
       "      <td>0.076321</td>\n",
       "      <td>0.066471</td>\n",
       "      <td>0.018205</td>\n",
       "      <td>0.045334</td>\n",
       "      <td>0.013745</td>\n",
       "      <td>0.014668</td>\n",
       "      <td>0.028950</td>\n",
       "      <td>0.015807</td>\n",
       "      <td>0.004975</td>\n",
       "      <td>...</td>\n",
       "      <td>0.070746</td>\n",
       "      <td>0.066393</td>\n",
       "      <td>0.101867</td>\n",
       "      <td>0.029382</td>\n",
       "      <td>0.042561</td>\n",
       "      <td>0.010630</td>\n",
       "      <td>0.100004</td>\n",
       "      <td>0.080283</td>\n",
       "      <td>0.043503</td>\n",
       "      <td>0.028905</td>\n",
       "    </tr>\n",
       "    <tr>\n",
       "      <th>3</th>\n",
       "      <td>0.045948</td>\n",
       "      <td>0.043252</td>\n",
       "      <td>0.006116</td>\n",
       "      <td>0.085620</td>\n",
       "      <td>0.037540</td>\n",
       "      <td>0.037349</td>\n",
       "      <td>0.025360</td>\n",
       "      <td>0.015317</td>\n",
       "      <td>0.012810</td>\n",
       "      <td>0.000402</td>\n",
       "      <td>...</td>\n",
       "      <td>0.030779</td>\n",
       "      <td>0.015762</td>\n",
       "      <td>0.048057</td>\n",
       "      <td>0.004159</td>\n",
       "      <td>0.029469</td>\n",
       "      <td>0.003341</td>\n",
       "      <td>0.198324</td>\n",
       "      <td>0.087603</td>\n",
       "      <td>0.054599</td>\n",
       "      <td>0.056834</td>\n",
       "    </tr>\n",
       "    <tr>\n",
       "      <th>4</th>\n",
       "      <td>0.185208</td>\n",
       "      <td>0.110741</td>\n",
       "      <td>0.044650</td>\n",
       "      <td>0.076808</td>\n",
       "      <td>0.084319</td>\n",
       "      <td>0.030137</td>\n",
       "      <td>0.045632</td>\n",
       "      <td>0.073936</td>\n",
       "      <td>0.048488</td>\n",
       "      <td>0.040375</td>\n",
       "      <td>...</td>\n",
       "      <td>0.019704</td>\n",
       "      <td>0.000000</td>\n",
       "      <td>0.155678</td>\n",
       "      <td>0.054774</td>\n",
       "      <td>0.001034</td>\n",
       "      <td>0.003038</td>\n",
       "      <td>0.374795</td>\n",
       "      <td>0.141804</td>\n",
       "      <td>0.067130</td>\n",
       "      <td>0.000000</td>\n",
       "    </tr>\n",
       "  </tbody>\n",
       "</table>\n",
       "<p>5 rows × 919 columns</p>\n",
       "</div>"
      ],
      "text/plain": [
       "        000        10       100        11        12        13        14  \\\n",
       "0  0.098601  0.024509  0.029764  0.004958  0.000000  0.000000  0.023409   \n",
       "1  0.021041  0.076507  0.015662  0.029476  0.055476  0.053473  0.032620   \n",
       "2  0.130636  0.076321  0.066471  0.018205  0.045334  0.013745  0.014668   \n",
       "3  0.045948  0.043252  0.006116  0.085620  0.037540  0.037349  0.025360   \n",
       "4  0.185208  0.110741  0.044650  0.076808  0.084319  0.030137  0.045632   \n",
       "\n",
       "         15        16        17  ...   working     works     world     worth  \\\n",
       "0  0.006997  0.016887  0.005593  ...  0.075061  0.006925  0.031232  0.002961   \n",
       "1  0.031999  0.034181  0.086450  ...  0.018765  0.008014  0.271449  0.007152   \n",
       "2  0.028950  0.015807  0.004975  ...  0.070746  0.066393  0.101867  0.029382   \n",
       "3  0.015317  0.012810  0.000402  ...  0.030779  0.015762  0.048057  0.004159   \n",
       "4  0.073936  0.048488  0.040375  ...  0.019704  0.000000  0.155678  0.054774   \n",
       "\n",
       "    written     wrong      year     years      york     young  \n",
       "0  0.036720  0.080000  0.013212  0.082201  0.003952  0.051506  \n",
       "1  0.011256  0.026413  0.226172  0.124461  0.013613  0.060259  \n",
       "2  0.042561  0.010630  0.100004  0.080283  0.043503  0.028905  \n",
       "3  0.029469  0.003341  0.198324  0.087603  0.054599  0.056834  \n",
       "4  0.001034  0.003038  0.374795  0.141804  0.067130  0.000000  \n",
       "\n",
       "[5 rows x 919 columns]"
      ]
     },
     "execution_count": 55,
     "metadata": {},
     "output_type": "execute_result"
    }
   ],
   "source": [
    "components_df = pd.DataFrame(model.components_, columns=vect.get_feature_names())\n",
    "components_df"
   ]
  },
  {
   "cell_type": "code",
   "execution_count": 66,
   "id": "bdddc2d3",
   "metadata": {},
   "outputs": [
    {
     "name": "stdout",
     "output_type": "stream",
     "text": [
      "For topic 1 the words with the highest value are:\n",
      "mr            1.331262\n",
      "labour        0.897330\n",
      "blair         0.766667\n",
      "election      0.763722\n",
      "said          0.661498\n",
      "party         0.648017\n",
      "brown         0.535266\n",
      "government    0.497837\n",
      "minister      0.446467\n",
      "howard        0.395097\n",
      "Name: 0, dtype: float64\n",
      "\n",
      "\n",
      "For topic 2 the words with the highest value are:\n",
      "game       0.554853\n",
      "england    0.513841\n",
      "win        0.386952\n",
      "cup        0.343717\n",
      "said       0.335418\n",
      "players    0.314006\n",
      "play       0.309740\n",
      "team       0.305910\n",
      "ireland    0.300892\n",
      "match      0.298904\n",
      "Name: 1, dtype: float64\n",
      "\n",
      "\n",
      "For topic 3 the words with the highest value are:\n",
      "people        0.568749\n",
      "mobile        0.479070\n",
      "said          0.430249\n",
      "music         0.407833\n",
      "technology    0.382316\n",
      "users         0.372731\n",
      "software      0.368475\n",
      "phone         0.337042\n",
      "digital       0.324575\n",
      "microsoft     0.323008\n",
      "Name: 2, dtype: float64\n",
      "\n",
      "\n",
      "For topic 4 the words with the highest value are:\n",
      "film        1.393019\n",
      "best        0.783338\n",
      "awards      0.480684\n",
      "actor       0.417866\n",
      "award       0.396340\n",
      "oscar       0.346590\n",
      "films       0.327315\n",
      "actress     0.327073\n",
      "director    0.317587\n",
      "star        0.290924\n",
      "Name: 3, dtype: float64\n",
      "\n",
      "\n",
      "For topic 5 the words with the highest value are:\n",
      "said       0.498066\n",
      "growth     0.394299\n",
      "year       0.374795\n",
      "sales      0.354270\n",
      "market     0.351294\n",
      "firm       0.335110\n",
      "company    0.330229\n",
      "economy    0.328887\n",
      "bank       0.303602\n",
      "shares     0.296512\n",
      "Name: 4, dtype: float64\n",
      "\n",
      "\n"
     ]
    }
   ],
   "source": [
    "for topic in range(components_df.shape[0]):\n",
    "    tmp = components_df.iloc[topic]\n",
    "    print(f'For topic {topic+1} the words with the highest value are:')\n",
    "    print(tmp.nlargest(10))\n",
    "    print('\\n')"
   ]
  },
  {
   "cell_type": "code",
   "execution_count": 69,
   "id": "a01cc2cf",
   "metadata": {},
   "outputs": [
    {
     "data": {
      "text/plain": [
       "0       business\n",
       "1       business\n",
       "2       business\n",
       "3           tech\n",
       "4       business\n",
       "          ...   \n",
       "1477       sport\n",
       "1478        tech\n",
       "1479    business\n",
       "1480        tech\n",
       "1481        tech\n",
       "Name: category, Length: 1482, dtype: object"
      ]
     },
     "execution_count": 69,
     "metadata": {},
     "output_type": "execute_result"
    }
   ],
   "source": [
    "pred_class = pd.DataFrame({'id' : [0, 1, 2, 3, 4], 'category' : ['politics', 'sport', 'tech', 'entertainment', 'business']})\n",
    "\n",
    "train_pred = pd.DataFrame({'id':pd.DataFrame(nmf_features).idxmax(axis=1)})\n",
    "train_pred.merge(pred_class, how = 'left', on = 'id').category"
   ]
  },
  {
   "cell_type": "code",
   "execution_count": 70,
   "id": "856bcd74",
   "metadata": {},
   "outputs": [
    {
     "name": "stdout",
     "output_type": "stream",
     "text": [
      "0.8365211085810259\n"
     ]
    }
   ],
   "source": [
    "train['Pred'] = train_pred.merge(pred_class, how = 'left', on = 'id').category\n",
    "(train['Pred'] == train['Category']).mean()"
   ]
  },
  {
   "cell_type": "markdown",
   "id": "bba7c85a",
   "metadata": {},
   "source": [
    "## Comparison with Supervised Learning\n"
   ]
  },
  {
   "cell_type": "code",
   "execution_count": 71,
   "id": "3e5de0b8",
   "metadata": {},
   "outputs": [
    {
     "data": {
      "text/plain": [
       "0      1\n",
       "1      2\n",
       "2      1\n",
       "3      4\n",
       "4      1\n",
       "      ..\n",
       "730    4\n",
       "731    3\n",
       "732    2\n",
       "733    4\n",
       "734    0\n",
       "Length: 735, dtype: int64"
      ]
     },
     "execution_count": 71,
     "metadata": {},
     "output_type": "execute_result"
    }
   ],
   "source": [
    "text_X = vect.transform(test.Text)\n",
    "test_nmf_features = model.transform(text_X)\n",
    "pd.DataFrame(test_nmf_features).idxmax(axis=1)"
   ]
  },
  {
   "cell_type": "code",
   "execution_count": 47,
   "id": "9162b681",
   "metadata": {},
   "outputs": [
    {
     "data": {
      "text/plain": [
       "0              sport\n",
       "1               tech\n",
       "2              sport\n",
       "3           business\n",
       "4              sport\n",
       "           ...      \n",
       "730         business\n",
       "731    entertainment\n",
       "732             tech\n",
       "733         business\n",
       "734         politics\n",
       "Name: category, Length: 735, dtype: object"
      ]
     },
     "execution_count": 47,
     "metadata": {},
     "output_type": "execute_result"
    }
   ],
   "source": [
    "pred = pd.DataFrame({'id':pd.DataFrame(test_nmf_features).idxmax(axis=1)})\n",
    "pred.merge(pred_class, how = 'left', on = 'id').category"
   ]
  },
  {
   "cell_type": "code",
   "execution_count": 72,
   "id": "4a0a5428",
   "metadata": {},
   "outputs": [],
   "source": [
    "test.drop(['Text'], axis = 1).to_csv('submission.csv', index = False)"
   ]
  },
  {
   "cell_type": "code",
   "execution_count": 73,
   "id": "dba81f19",
   "metadata": {},
   "outputs": [
    {
     "name": "stdout",
     "output_type": "stream",
     "text": [
      "0.8854123400512675\n"
     ]
    }
   ],
   "source": [
    "test['category'] = pred.merge(pred_class, how = 'left', on = 'id').category"
   ]
  },
  {
   "cell_type": "markdown",
   "id": "9ebae4a1",
   "metadata": {},
   "source": [
    "## Conclusion\n",
    "\n",
    "With building and training the model with matrix factorization method, I was able to obtain the model with accuracy of 0.837. On the other hand, the supervised model has higher accuracy, which is 0.885. With this experiment, we could conclude that the model I used for supervised learning comparison has higher accuracy than the model from matrix factorization method. "
   ]
  }
 ],
 "metadata": {
  "kernelspec": {
   "display_name": "Python 3",
   "language": "python",
   "name": "python3"
  },
  "language_info": {
   "codemirror_mode": {
    "name": "ipython",
    "version": 3
   },
   "file_extension": ".py",
   "mimetype": "text/x-python",
   "name": "python",
   "nbconvert_exporter": "python",
   "pygments_lexer": "ipython3",
   "version": "3.8.8"
  }
 },
 "nbformat": 4,
 "nbformat_minor": 5
}
